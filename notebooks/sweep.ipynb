{
 "cells": [
  {
   "cell_type": "code",
   "execution_count": null,
   "metadata": {},
   "outputs": [],
   "source": [
    "# switch to the project directory\n",
    "%cd ..\n",
    "# working directory should be ../FSE"
   ]
  },
  {
   "cell_type": "code",
   "execution_count": null,
   "metadata": {},
   "outputs": [],
   "source": [
    "import sys\n",
    "import os\n",
    "\n",
    "module_path = os.path.abspath('src')\n",
    "\n",
    "if module_path not in sys.path:\n",
    "    sys.path.append(module_path)"
   ]
  },
  {
   "cell_type": "code",
   "execution_count": null,
   "metadata": {},
   "outputs": [],
   "source": [
    "from pdi.constants import (\n",
    "    NUM_WORKERS, )\n",
    "\n",
    "from pdi.data.constants import N_COLUMNS\n",
    "from pdi.data.types import Split\n",
    "import wandb\n",
    "from pdi.train import train\n"
   ]
  },
  {
   "cell_type": "code",
   "execution_count": null,
   "metadata": {},
   "outputs": [],
   "source": [
    "import torch\n",
    "import torch.nn as nn\n",
    "\n",
    "torch.cuda.set_device(0)\n",
    "device = torch.device(\"cuda\")"
   ]
  },
  {
   "cell_type": "code",
   "execution_count": null,
   "metadata": {},
   "outputs": [],
   "source": [
    "from math import sqrt\n",
    "target_code = 321\n",
    "\n",
    "\n",
    "\n",
    "def main(train_loader, val_loader, create_model_fun):\n",
    "    wandb.init(allow_val_change=True)\n",
    "    if \"d_model\" in wandb.config:\n",
    "        wandb.config.start_lr = 1e-3 / sqrt(wandb.config.d_model)\n",
    "    pos_weight = torch.tensor(1.0).float().to(device)\n",
    "    wandb.log({\"pos_weight\": pos_weight.item()})\n",
    "    model = create_model_fun()\n",
    "    train(model, target_code, device, train_loader, val_loader, pos_weight)"
   ]
  },
  {
   "cell_type": "markdown",
   "metadata": {},
   "source": [
    "Delete Sweep"
   ]
  },
  {
   "cell_type": "code",
   "execution_count": null,
   "metadata": {},
   "outputs": [],
   "source": [
    "delete_sweep_configuration = {\n",
    "    \"method\": \"random\",\n",
    "    \"metric\": {\n",
    "        \"goal\": \"maximize\",\n",
    "        \"name\": \"val_f1\"\n",
    "    },\n",
    "    \"early_terminate\": {\n",
    "        \"type\": \"hyperband\",\n",
    "        \"min_iter\": 10,\n",
    "        \"eta\": 2,\n",
    "    },\n",
    "    \"parameters\": {\n",
    "        \"bs\": {\n",
    "            \"value\": 256\n",
    "        },\n",
    "        \"max_epochs\": {\n",
    "            \"value\": 100\n",
    "        },\n",
    "        \"start_lr\": {\n",
    "            \"value\": 5e-3\n",
    "        },\n",
    "        \"patience\": {\n",
    "            \"value\": 10\n",
    "        },\n",
    "        \"patience_threshold\": {\n",
    "            \"value\": 0.001\n",
    "        },\n",
    "        \"h0\": {\n",
    "            \"values\": [16, 32, 64, 128, 256]\n",
    "        },\n",
    "        \"h_layers\": {\n",
    "            \"values\": [1, 2, 3]\n",
    "        },\n",
    "        \"h_scale\": {\n",
    "            \"values\": [0.125, 0.25, 0.5, 0.75]\n",
    "        },\n",
    "        \"dropout\": {\n",
    "            \"value\": 0.1\n",
    "        },\n",
    "        \"gamma\": {\n",
    "            \"value\": 0.9\n",
    "        }\n",
    "    },\n",
    "}"
   ]
  },
  {
   "cell_type": "code",
   "execution_count": null,
   "metadata": {},
   "outputs": [],
   "source": [
    "from pdi.models import NeuralNet\n",
    "\n",
    "\n",
    "def create_simple_model():\n",
    "    hidden_layers = [wandb.config.h0]\n",
    "    for i in range(wandb.config.h_layers - 1):\n",
    "        hidden_layers.append(int(wandb.config.h_scale * hidden_layers[-1]))\n",
    "\n",
    "    return NeuralNet(\n",
    "        [N_COLUMNS, *hidden_layers, 1],\n",
    "        nn.ReLU,\n",
    "        wandb.config.dropout,\n",
    "    ).to(device)\n"
   ]
  },
  {
   "cell_type": "code",
   "execution_count": null,
   "metadata": {},
   "outputs": [],
   "source": [
    "from pdi.data.preparation import DeletePreparation\n",
    "\n",
    "sweep_id = wandb.sweep(sweep=delete_sweep_configuration, project=\"DeleteSweep\")\n",
    "\n",
    "bs = delete_sweep_configuration[\"parameters\"][\"bs\"][\"value\"]\n",
    "train_loader, val_loader = DeletePreparation().prepare_dataloaders(\n",
    "       bs, NUM_WORKERS, [Split.TRAIN, Split.VAL])\n",
    "wandb.agent(sweep_id, function=lambda: main(train_loader, val_loader, create_simple_model))"
   ]
  },
  {
   "cell_type": "markdown",
   "metadata": {},
   "source": [
    "FSE Sweep"
   ]
  },
  {
   "cell_type": "code",
   "execution_count": null,
   "metadata": {},
   "outputs": [],
   "source": [
    "fse_sweep_configuration = {\n",
    "    \"method\": \"random\",\n",
    "    \"metric\": {\n",
    "        \"goal\": \"minimize\",\n",
    "        \"name\": \"val_loss\"\n",
    "    },\n",
    "    \"early_terminate\": {\n",
    "        \"type\": \"hyperband\",\n",
    "        \"min_iter\": 4,\n",
    "        \"eta\": 2,\n",
    "    },\n",
    "    \"parameters\": {\n",
    "        \"bs\": {\n",
    "            \"value\": 512\n",
    "        },\n",
    "        \"max_epochs\": {\n",
    "            \"value\": 40\n",
    "        },\n",
    "        \"patience\": {\n",
    "            \"value\": 5\n",
    "        },\n",
    "        \"patience_threshold\": {\n",
    "            \"value\": 0.001\n",
    "        },\n",
    "        \"dropout\": {\n",
    "            \"value\": 0.1\n",
    "        },\n",
    "        \"gamma\": {\n",
    "            \"value\": 0.9\n",
    "        },\n",
    "        \"embed_hidden\": {\n",
    "            \"values\": [16, 32, 64, 128]\n",
    "        },\n",
    "        \"d_model\": {\n",
    "            \"values\": [16, 32, 64]\n",
    "        },\n",
    "        \"ff_hidden\": {\n",
    "            \"values\": [16, 32, 64, 128, 256]\n",
    "        },\n",
    "        \"pool_hidden\": {\n",
    "            \"values\": [16, 32, 64, 128]\n",
    "        },\n",
    "        \"num_heads\": {\n",
    "            \"values\": [1, 2, 4, 8]\n",
    "        },\n",
    "        \"num_blocks\": {\n",
    "            \"values\": [1, 2, 4, 6]\n",
    "        },\n",
    "    },\n",
    "}"
   ]
  },
  {
   "cell_type": "code",
   "execution_count": null,
   "metadata": {},
   "outputs": [],
   "source": [
    "from pdi.models import AttentionModel\n",
    "\n",
    "\n",
    "def create_attention_model():\n",
    "    return AttentionModel(\n",
    "        N_COLUMNS + 1,\n",
    "        wandb.config.embed_hidden,\n",
    "        wandb.config.d_model,\n",
    "        wandb.config.ff_hidden,\n",
    "        wandb.config.pool_hidden,\n",
    "        wandb.config.num_heads,\n",
    "        wandb.config.num_blocks,\n",
    "        nn.ReLU,\n",
    "        wandb.config.dropout,\n",
    "    ).to(device)\n"
   ]
  },
  {
   "cell_type": "code",
   "execution_count": null,
   "metadata": {
    "scrolled": true
   },
   "outputs": [],
   "source": [
    "from pdi.data.preparation import FeatureSetPreparation\n",
    "\n",
    "sweep_id = wandb.sweep(sweep=fse_sweep_configuration, project=\"FSESweep\")\n",
    "\n",
    "bs = fse_sweep_configuration[\"parameters\"][\"bs\"][\"value\"]\n",
    "\n",
    "train_loader, val_loader = FeatureSetPreparation().prepare_dataloaders(\n",
    "        bs, NUM_WORKERS, [Split.TRAIN, Split.VAL])\n",
    "wandb.agent(sweep_id, function=lambda: main(train_loader, val_loader, create_attention_model))"
   ]
  }
 ],
 "metadata": {
  "interpreter": {
   "hash": "6ddece17a642146cc49b2b032ef0865aafdc2c2bbdb5ddaf5cd80c99ab7aea91"
  },
  "kernelspec": {
   "display_name": "Python 3.9.13 ('.venv': poetry)",
   "language": "python",
   "name": "python3"
  },
  "language_info": {
   "codemirror_mode": {
    "name": "ipython",
    "version": 3
   },
   "file_extension": ".py",
   "mimetype": "text/x-python",
   "name": "python",
   "nbconvert_exporter": "python",
   "pygments_lexer": "ipython3",
   "version": "3.9.13"
  }
 },
 "nbformat": 4,
 "nbformat_minor": 2
}
