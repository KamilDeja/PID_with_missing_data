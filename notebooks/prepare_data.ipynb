{
 "cells": [
  {
   "cell_type": "code",
   "execution_count": 1,
   "metadata": {},
   "outputs": [
    {
     "name": "stdout",
     "output_type": "stream",
     "text": [
      "c:\\Users\\admin\\Desktop\\research\\pdi\n"
     ]
    }
   ],
   "source": [
    "# switch to the project directory\n",
    "%cd ..\n",
    "# working directory should be **/pdi"
   ]
  },
  {
   "cell_type": "code",
   "execution_count": 2,
   "metadata": {},
   "outputs": [],
   "source": [
    "import sys\n",
    "import os\n",
    "module_path = os.path.abspath('src')\n",
    "\n",
    "if module_path not in sys.path:\n",
    "    sys.path.append(module_path)"
   ]
  },
  {
   "cell_type": "code",
   "execution_count": 3,
   "metadata": {},
   "outputs": [],
   "source": [
    "from pdi.data.preparation import MeanImputation\n",
    "prep = MeanImputation()\n",
    "prep.prepare_data()\n",
    "prep.save_data()"
   ]
  },
  {
   "cell_type": "code",
   "execution_count": 4,
   "metadata": {},
   "outputs": [],
   "source": [
    "from pdi.data.preparation import DeletePreparation\n",
    "prep = DeletePreparation()\n",
    "prep.prepare_data()\n",
    "prep.save_data()\n"
   ]
  },
  {
   "cell_type": "code",
   "execution_count": 5,
   "metadata": {},
   "outputs": [],
   "source": [
    "from pdi.data.preparation import RegressionImputation\n",
    "prep = RegressionImputation()\n",
    "prep.prepare_data()\n",
    "prep.save_data()\n"
   ]
  },
  {
   "cell_type": "code",
   "execution_count": 6,
   "metadata": {},
   "outputs": [],
   "source": [
    "from pdi.data.preparation import EnsemblePreparation\n",
    "prep = EnsemblePreparation()\n",
    "prep.prepare_data()\n",
    "prep.save_data()\n"
   ]
  },
  {
   "cell_type": "code",
   "execution_count": 3,
   "metadata": {},
   "outputs": [],
   "source": [
    "from pdi.data.preparation import FeatureSetPreparation\n",
    "prep = FeatureSetPreparation()\n",
    "prep.prepare_data()\n",
    "prep.save_data()\n"
   ]
  }
 ],
 "metadata": {
  "interpreter": {
   "hash": "6ddece17a642146cc49b2b032ef0865aafdc2c2bbdb5ddaf5cd80c99ab7aea91"
  },
  "kernelspec": {
   "display_name": "pdi-venv",
   "language": "python",
   "name": "pdi-venv"
  },
  "language_info": {
   "codemirror_mode": {
    "name": "ipython",
    "version": 3
   },
   "file_extension": ".py",
   "mimetype": "text/x-python",
   "name": "python",
   "nbconvert_exporter": "python",
   "pygments_lexer": "ipython3",
   "version": "3.9.13"
  },
  "orig_nbformat": 4
 },
 "nbformat": 4,
 "nbformat_minor": 2
}
