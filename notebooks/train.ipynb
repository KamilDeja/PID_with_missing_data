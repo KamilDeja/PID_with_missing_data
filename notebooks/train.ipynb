{
 "cells": [
  {
   "cell_type": "code",
   "execution_count": 1,
   "metadata": {},
   "outputs": [
    {
     "name": "stdout",
     "output_type": "stream",
     "text": [
      "c:\\Users\\admin\\Desktop\\research\\pdi\n"
     ]
    }
   ],
   "source": [
    "# switch to the project directory\n",
    "%cd ..\n",
    "# working directory should be ../pdi"
   ]
  },
  {
   "cell_type": "code",
   "execution_count": 2,
   "metadata": {},
   "outputs": [],
   "source": [
    "import sys\n",
    "import os\n",
    "\n",
    "module_path = os.path.abspath('src')\n",
    "\n",
    "if module_path not in sys.path:\n",
    "    sys.path.append(module_path)"
   ]
  },
  {
   "cell_type": "code",
   "execution_count": 3,
   "metadata": {},
   "outputs": [],
   "source": [
    "from pdi.constants import (\n",
    "    PARTICLES_DICT,\n",
    "    TARGET_CODES,\n",
    "    NUM_WORKERS,\n",
    ")"
   ]
  },
  {
   "cell_type": "code",
   "execution_count": 4,
   "metadata": {},
   "outputs": [],
   "source": [
    "config_common = {\n",
    "    \"bs\": 512,\n",
    "    \"max_epochs\": 1,  # 40\n",
    "    \"dropout\": 0.1,\n",
    "    \"gamma\": 0.9,\n",
    "    \"patience\": 5,\n",
    "    \"patience_threshold\": 0.001,\n",
    "}"
   ]
  },
  {
   "cell_type": "code",
   "execution_count": 5,
   "metadata": {},
   "outputs": [],
   "source": [
    "import torch\n",
    "import torch.nn as nn\n",
    "\n",
    "torch.cuda.set_device(0)\n",
    "device = torch.device(\"cuda\")"
   ]
  },
  {
   "cell_type": "code",
   "execution_count": 6,
   "metadata": {},
   "outputs": [],
   "source": [
    "from pdi.data.preparation import FeatureSetPreparation, MeanImputation, DeletePreparation, RegressionImputation, EnsemblePreparation\n",
    "from pdi.models import AttentionModel, NeuralNetEnsemble, NeuralNet\n",
    "from pdi.data.constants import N_COLUMNS\n",
    "from pdi.data.types import Split\n",
    "\n",
    "EXPERIMENTS = {\n",
    "    \"Delete\": {\n",
    "        \"data_preparation\":\n",
    "        DeletePreparation(),\n",
    "        \"config\": {\n",
    "            \"h0\": 64,\n",
    "            \"h1\": 32,\n",
    "            \"h2\": 16,\n",
    "            \"start_lr\": 5e-4,\n",
    "        },\n",
    "        \"model_class\":\n",
    "        NeuralNet,\n",
    "        \"model_args\":\n",
    "        lambda d_prep: [[\n",
    "            N_COLUMNS, wandb.config.h0, wandb.config.h1, wandb.config.h2, 1\n",
    "        ], nn.ReLU, wandb.config.dropout]\n",
    "    },\n",
    "    \"Mean\": {\n",
    "        \"data_preparation\":\n",
    "        MeanImputation(),\n",
    "        \"config\": {\n",
    "            \"h0\": 64,\n",
    "            \"h1\": 32,\n",
    "            \"h2\": 16,\n",
    "            \"start_lr\": 5e-4,\n",
    "        },\n",
    "        \"model_class\":\n",
    "        NeuralNet,\n",
    "        \"model_args\":\n",
    "        lambda d_prep: [[\n",
    "            N_COLUMNS, wandb.config.h0, wandb.config.h1, wandb.config.h2, 1\n",
    "        ], nn.ReLU, wandb.config.dropout]\n",
    "    },\n",
    "    \"Regression\": {\n",
    "        \"data_preparation\":\n",
    "        RegressionImputation(),\n",
    "        \"config\": {\n",
    "            \"h0\": 64,\n",
    "            \"h1\": 32,\n",
    "            \"h2\": 16,\n",
    "            \"start_lr\": 5e-4,\n",
    "        },\n",
    "        \"model_class\":\n",
    "        NeuralNet,\n",
    "        \"model_args\":\n",
    "        lambda d_prep: [[\n",
    "            N_COLUMNS, wandb.config.h0, wandb.config.h1, wandb.config.h2, 1\n",
    "        ], nn.ReLU, wandb.config.dropout],\n",
    "    },\n",
    "    \"Ensemble\": {\n",
    "        \"data_preparation\":\n",
    "        EnsemblePreparation(),\n",
    "        \"config\": {\n",
    "            \"h0\": 64,\n",
    "            \"h1\": 32,\n",
    "            \"h2\": 16,\n",
    "            \"start_lr\": 5e-4,\n",
    "        },\n",
    "        \"model_class\":\n",
    "        NeuralNetEnsemble,\n",
    "        \"model_args\":\n",
    "        lambda d_prep: [\n",
    "            d_prep.get_group_ids(),\n",
    "            [wandb.config.h0, wandb.config.h1, wandb.config.h2, 1],\n",
    "            nn.ReLU,\n",
    "            wandb.config.dropout,\n",
    "        ],\n",
    "    },\n",
    "    \"Proposed\": {\n",
    "        \"data_preparation\":\n",
    "        FeatureSetPreparation(),\n",
    "        \"config\": {\n",
    "            \"embed_in\": N_COLUMNS + 1,\n",
    "            \"embed_hidden\": 128,\n",
    "            \"d_model\": 32,\n",
    "            \"ff_hidden\": 128,\n",
    "            \"pool_hidden\": 64,\n",
    "            \"num_heads\": 2,\n",
    "            \"num_blocks\": 2,\n",
    "            \"start_lr\": 2e-4,\n",
    "        },\n",
    "        \"model_class\":\n",
    "        AttentionModel,\n",
    "        \"model_args\":\n",
    "        lambda d_prep: [\n",
    "            wandb.config.embed_in,\n",
    "            wandb.config.embed_hidden,\n",
    "            wandb.config.d_model,\n",
    "            wandb.config.ff_hidden,\n",
    "            wandb.config.pool_hidden,\n",
    "            wandb.config.num_heads,\n",
    "            wandb.config.num_blocks,\n",
    "            nn.ReLU,\n",
    "            wandb.config.dropout,\n",
    "        ],\n",
    "    },\n",
    "}\n"
   ]
  },
  {
   "cell_type": "code",
   "execution_count": 7,
   "metadata": {},
   "outputs": [],
   "source": [
    "import wandb\n",
    "import os\n",
    "from pdi.train import train\n",
    "from pdi.constants import PARTICLES_DICT\n",
    "\n",
    "from os.path import isfile\n",
    "\n",
    "SAMPLES = 3\n",
    "\n",
    "def do_train(experiment_name, data_preparation, config, model_class,\n",
    "             model_args):\n",
    "    wandb_config = {**config_common, **config}\n",
    "\n",
    "    for sample in range(SAMPLES):\n",
    "        train_loader, val_loader = data_preparation.prepare_dataloaders(\n",
    "            wandb_config[\"bs\"], NUM_WORKERS, [Split.TRAIN, Split.VAL])\n",
    "\n",
    "        for target_code in TARGET_CODES:\n",
    "            save_path = f\"models/{experiment_name}/{PARTICLES_DICT[target_code]}_{sample}.pt\"\n",
    "            if isfile(save_path):\n",
    "                continue\n",
    "            with wandb.init(project=experiment_name,\n",
    "                            config=wandb_config,\n",
    "                            name=PARTICLES_DICT[target_code] + f\"_{sample}\",\n",
    "                           anonymous=\"allow\") as run:\n",
    "                # pos_weight = torch.tensor(data_preparation.pos_weight(target_code)).float().to(device)\n",
    "                pos_weight = torch.tensor(1.0).to(device)\n",
    "                wandb.log({\"pos_weight\": pos_weight.item()})\n",
    "\n",
    "                model_init_args = model_args(data_preparation)\n",
    "                model = model_class(*model_init_args).to(device)\n",
    "\n",
    "                os.makedirs(f\"models/{experiment_name}/\", exist_ok=True)\n",
    "                train(model, target_code, device, train_loader, val_loader,\n",
    "                    pos_weight)\n",
    "\n",
    "                save_dict = {\n",
    "                    \"state_dict\": model.state_dict(),\n",
    "                    \"model_args\": model_init_args,\n",
    "                    \"model_thres\": model.thres\n",
    "                }\n",
    "\n",
    "                torch.save(save_dict, save_path)"
   ]
  },
  {
   "cell_type": "code",
   "execution_count": null,
   "metadata": {},
   "outputs": [],
   "source": [
    "do_train(\"Delete\", **EXPERIMENTS[\"Delete\"])"
   ]
  },
  {
   "cell_type": "code",
   "execution_count": null,
   "metadata": {},
   "outputs": [],
   "source": [
    "do_train(\"Mean\", **EXPERIMENTS[\"Mean\"])"
   ]
  },
  {
   "cell_type": "code",
   "execution_count": null,
   "metadata": {},
   "outputs": [],
   "source": [
    "do_train(\"Regression\", **EXPERIMENTS[\"Regression\"])"
   ]
  },
  {
   "cell_type": "code",
   "execution_count": null,
   "metadata": {},
   "outputs": [],
   "source": [
    "do_train(\"Ensemble\", **EXPERIMENTS[\"Ensemble\"])"
   ]
  },
  {
   "cell_type": "code",
   "execution_count": 8,
   "metadata": {},
   "outputs": [],
   "source": [
    "do_train(\"Proposed\", **EXPERIMENTS[\"Proposed\"])"
   ]
  }
 ],
 "metadata": {
  "kernelspec": {
   "display_name": ".venv",
   "language": "python",
   "name": "python3"
  },
  "language_info": {
   "codemirror_mode": {
    "name": "ipython",
    "version": 3
   },
   "file_extension": ".py",
   "mimetype": "text/x-python",
   "name": "python",
   "nbconvert_exporter": "python",
   "pygments_lexer": "ipython3",
   "version": "3.9.13"
  },
  "vscode": {
   "interpreter": {
    "hash": "6ddece17a642146cc49b2b032ef0865aafdc2c2bbdb5ddaf5cd80c99ab7aea91"
   }
  }
 },
 "nbformat": 4,
 "nbformat_minor": 2
}
